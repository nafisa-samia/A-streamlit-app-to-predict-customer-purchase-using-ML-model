{
 "cells": [
  {
   "cell_type": "markdown",
   "id": "a765668f",
   "metadata": {
    "papermill": {
     "duration": 0.038298,
     "end_time": "2022-01-30T17:31:33.481698",
     "exception": false,
     "start_time": "2022-01-30T17:31:33.443400",
     "status": "completed"
    },
    "tags": []
   },
   "source": [
    "# **Customer propensity to purchase**\n"
   ]
  },
  {
   "cell_type": "markdown",
   "id": "8e0cd257",
   "metadata": {
    "papermill": {
     "duration": 0.037147,
     "end_time": "2022-01-30T17:31:33.556806",
     "exception": false,
     "start_time": "2022-01-30T17:31:33.519659",
     "status": "completed"
    },
    "tags": []
   },
   "source": [
    "# **Introduction**\n",
    "\n",
    "Aim is to build a Machine Learning model that predicts the customer's probability of purchase using historical data. Each website has a lot of visitors every day but not all of them make a purchase. Instead of spending money to target such visitors using digital marketing like social media platforms, it makes sense to optimize this activity by targeting real valuable prospects who are more likely to make a purchase.<br><br>\n"
   ]
  },
  {
   "cell_type": "markdown",
   "id": "fd06bf17",
   "metadata": {
    "papermill": {
     "duration": 0.037742,
     "end_time": "2022-01-30T17:31:33.630960",
     "exception": false,
     "start_time": "2022-01-30T17:31:33.593218",
     "status": "completed"
    },
    "tags": []
   },
   "source": [
    "## About Dataset"
   ]
  },
  {
   "cell_type": "markdown",
   "id": "fbc64662",
   "metadata": {
    "papermill": {
     "duration": 0.036742,
     "end_time": "2022-01-30T17:31:33.705517",
     "exception": false,
     "start_time": "2022-01-30T17:31:33.668775",
     "status": "completed"
    },
    "tags": []
   },
   "source": [
    "For simplicity we just keep subset of dataset. Columns are as below:\n",
    "\n",
    "'UserID' – Unique Identifier for each customer\n",
    "\n",
    "'basket_add_detail' – A binary variable indicating if the customer added an item to the basket from the product detail page\n",
    "\n",
    "'promo_banner_click' – A binary variable indicating if the customer clicked on any promotional banners\n",
    "\n",
    "'sign_in' – Another binary variable, indicating if the customer signed into our website\n",
    "\n",
    "'returning_user' – Again, a binary variable indicating if the customer is a returning visitor to our website\n",
    "\n",
    "'saw_homepage' – A binary variable indicating if the customer saw the homepage of the website\n",
    "\n",
    "'ordered' – Our target variable. A binary variable indicating if the customer placed an order"
   ]
  },
  {
   "cell_type": "markdown",
   "id": "52e89517",
   "metadata": {
    "papermill": {
     "duration": 0.035112,
     "end_time": "2022-01-30T17:31:33.777184",
     "exception": false,
     "start_time": "2022-01-30T17:31:33.742072",
     "status": "completed"
    },
    "tags": []
   },
   "source": [
    "## Import libraries we required"
   ]
  },
  {
   "cell_type": "code",
   "execution_count": 23,
   "id": "2553c9a8",
   "metadata": {
    "ExecuteTime": {
     "end_time": "2022-03-02T12:27:11.556306Z",
     "start_time": "2022-03-02T12:27:11.551236Z"
    },
    "execution": {
     "iopub.execute_input": "2022-01-30T17:31:33.930710Z",
     "iopub.status.busy": "2022-01-30T17:31:33.930051Z",
     "iopub.status.idle": "2022-01-30T17:31:35.174835Z",
     "shell.execute_reply": "2022-01-30T17:31:35.173835Z",
     "shell.execute_reply.started": "2022-01-30T17:04:37.607934Z"
    },
    "papermill": {
     "duration": 1.290401,
     "end_time": "2022-01-30T17:31:35.175066",
     "exception": false,
     "start_time": "2022-01-30T17:31:33.884665",
     "status": "completed"
    },
    "tags": []
   },
   "outputs": [],
   "source": [
    "import numpy as np\n",
    "import pandas as pd\n",
    "import matplotlib.pyplot as plt\n",
    "import seaborn as sns"
   ]
  },
  {
   "cell_type": "markdown",
   "id": "8b773f17",
   "metadata": {
    "papermill": {
     "duration": 0.036403,
     "end_time": "2022-01-30T17:31:35.247215",
     "exception": false,
     "start_time": "2022-01-30T17:31:35.210812",
     "status": "completed"
    },
    "tags": []
   },
   "source": [
    "### Import data"
   ]
  },
  {
   "cell_type": "code",
   "execution_count": 24,
   "id": "a48ff25c",
   "metadata": {
    "ExecuteTime": {
     "end_time": "2022-03-02T12:27:12.662112Z",
     "start_time": "2022-03-02T12:27:12.147583Z"
    },
    "execution": {
     "iopub.execute_input": "2022-01-30T17:31:35.422088Z",
     "iopub.status.busy": "2022-01-30T17:31:35.421134Z",
     "iopub.status.idle": "2022-01-30T17:31:37.294013Z",
     "shell.execute_reply": "2022-01-30T17:31:37.294564Z",
     "shell.execute_reply.started": "2022-01-30T17:04:37.635426Z"
    },
    "papermill": {
     "duration": 1.912805,
     "end_time": "2022-01-30T17:31:37.294755",
     "exception": false,
     "start_time": "2022-01-30T17:31:35.381950",
     "status": "completed"
    },
    "tags": []
   },
   "outputs": [],
   "source": [
    "data = pd.read_csv(\"training_sample.csv\")"
   ]
  },
  {
   "cell_type": "code",
   "execution_count": 25,
   "id": "5094dda8",
   "metadata": {
    "ExecuteTime": {
     "end_time": "2022-03-02T12:27:12.670945Z",
     "start_time": "2022-03-02T12:27:12.663409Z"
    },
    "execution": {
     "iopub.execute_input": "2022-01-30T17:31:37.371935Z",
     "iopub.status.busy": "2022-01-30T17:31:37.370902Z",
     "iopub.status.idle": "2022-01-30T17:31:37.402223Z",
     "shell.execute_reply": "2022-01-30T17:31:37.402748Z",
     "shell.execute_reply.started": "2022-01-30T17:04:38.875029Z"
    },
    "papermill": {
     "duration": 0.07199,
     "end_time": "2022-01-30T17:31:37.402950",
     "exception": false,
     "start_time": "2022-01-30T17:31:37.330960",
     "status": "completed"
    },
    "tags": []
   },
   "outputs": [
    {
     "data": {
      "text/html": [
       "<div>\n",
       "<style scoped>\n",
       "    .dataframe tbody tr th:only-of-type {\n",
       "        vertical-align: middle;\n",
       "    }\n",
       "\n",
       "    .dataframe tbody tr th {\n",
       "        vertical-align: top;\n",
       "    }\n",
       "\n",
       "    .dataframe thead th {\n",
       "        text-align: right;\n",
       "    }\n",
       "</style>\n",
       "<table border=\"1\" class=\"dataframe\">\n",
       "  <thead>\n",
       "    <tr style=\"text-align: right;\">\n",
       "      <th></th>\n",
       "      <th>UserID</th>\n",
       "      <th>basket_icon_click</th>\n",
       "      <th>basket_add_list</th>\n",
       "      <th>basket_add_detail</th>\n",
       "      <th>sort_by</th>\n",
       "      <th>image_picker</th>\n",
       "      <th>account_page_click</th>\n",
       "      <th>promo_banner_click</th>\n",
       "      <th>detail_wishlist_add</th>\n",
       "      <th>list_size_dropdown</th>\n",
       "      <th>...</th>\n",
       "      <th>saw_sizecharts</th>\n",
       "      <th>saw_delivery</th>\n",
       "      <th>saw_account_upgrade</th>\n",
       "      <th>saw_homepage</th>\n",
       "      <th>device_mobile</th>\n",
       "      <th>device_computer</th>\n",
       "      <th>device_tablet</th>\n",
       "      <th>returning_user</th>\n",
       "      <th>loc_uk</th>\n",
       "      <th>ordered</th>\n",
       "    </tr>\n",
       "  </thead>\n",
       "  <tbody>\n",
       "    <tr>\n",
       "      <th>0</th>\n",
       "      <td>a720-6b732349-a720-4862-bd21-644732</td>\n",
       "      <td>0</td>\n",
       "      <td>0</td>\n",
       "      <td>0</td>\n",
       "      <td>0</td>\n",
       "      <td>0</td>\n",
       "      <td>0</td>\n",
       "      <td>0</td>\n",
       "      <td>0</td>\n",
       "      <td>0</td>\n",
       "      <td>...</td>\n",
       "      <td>0</td>\n",
       "      <td>0</td>\n",
       "      <td>0</td>\n",
       "      <td>0</td>\n",
       "      <td>1</td>\n",
       "      <td>0</td>\n",
       "      <td>0</td>\n",
       "      <td>0</td>\n",
       "      <td>1</td>\n",
       "      <td>0</td>\n",
       "    </tr>\n",
       "    <tr>\n",
       "      <th>1</th>\n",
       "      <td>a0c0-6b73247c-a0c0-4bd9-8baa-797356</td>\n",
       "      <td>0</td>\n",
       "      <td>0</td>\n",
       "      <td>0</td>\n",
       "      <td>0</td>\n",
       "      <td>0</td>\n",
       "      <td>0</td>\n",
       "      <td>0</td>\n",
       "      <td>0</td>\n",
       "      <td>0</td>\n",
       "      <td>...</td>\n",
       "      <td>0</td>\n",
       "      <td>0</td>\n",
       "      <td>0</td>\n",
       "      <td>0</td>\n",
       "      <td>1</td>\n",
       "      <td>0</td>\n",
       "      <td>0</td>\n",
       "      <td>0</td>\n",
       "      <td>1</td>\n",
       "      <td>0</td>\n",
       "    </tr>\n",
       "    <tr>\n",
       "      <th>2</th>\n",
       "      <td>86a8-6b735c67-86a8-407b-ba24-333055</td>\n",
       "      <td>0</td>\n",
       "      <td>0</td>\n",
       "      <td>0</td>\n",
       "      <td>0</td>\n",
       "      <td>0</td>\n",
       "      <td>0</td>\n",
       "      <td>0</td>\n",
       "      <td>0</td>\n",
       "      <td>0</td>\n",
       "      <td>...</td>\n",
       "      <td>0</td>\n",
       "      <td>0</td>\n",
       "      <td>0</td>\n",
       "      <td>0</td>\n",
       "      <td>1</td>\n",
       "      <td>0</td>\n",
       "      <td>0</td>\n",
       "      <td>1</td>\n",
       "      <td>1</td>\n",
       "      <td>0</td>\n",
       "    </tr>\n",
       "    <tr>\n",
       "      <th>3</th>\n",
       "      <td>6a3d-6b736346-6a3d-4085-934b-396834</td>\n",
       "      <td>0</td>\n",
       "      <td>0</td>\n",
       "      <td>0</td>\n",
       "      <td>0</td>\n",
       "      <td>0</td>\n",
       "      <td>0</td>\n",
       "      <td>0</td>\n",
       "      <td>0</td>\n",
       "      <td>0</td>\n",
       "      <td>...</td>\n",
       "      <td>0</td>\n",
       "      <td>0</td>\n",
       "      <td>0</td>\n",
       "      <td>0</td>\n",
       "      <td>1</td>\n",
       "      <td>0</td>\n",
       "      <td>0</td>\n",
       "      <td>1</td>\n",
       "      <td>1</td>\n",
       "      <td>0</td>\n",
       "    </tr>\n",
       "    <tr>\n",
       "      <th>4</th>\n",
       "      <td>b74a-6b737717-b74a-45c3-8c6a-421140</td>\n",
       "      <td>0</td>\n",
       "      <td>1</td>\n",
       "      <td>0</td>\n",
       "      <td>1</td>\n",
       "      <td>0</td>\n",
       "      <td>0</td>\n",
       "      <td>0</td>\n",
       "      <td>0</td>\n",
       "      <td>1</td>\n",
       "      <td>...</td>\n",
       "      <td>0</td>\n",
       "      <td>0</td>\n",
       "      <td>0</td>\n",
       "      <td>1</td>\n",
       "      <td>0</td>\n",
       "      <td>0</td>\n",
       "      <td>1</td>\n",
       "      <td>0</td>\n",
       "      <td>1</td>\n",
       "      <td>1</td>\n",
       "    </tr>\n",
       "  </tbody>\n",
       "</table>\n",
       "<p>5 rows × 25 columns</p>\n",
       "</div>"
      ],
      "text/plain": [
       "                                UserID  basket_icon_click  basket_add_list  \\\n",
       "0  a720-6b732349-a720-4862-bd21-644732                  0                0   \n",
       "1  a0c0-6b73247c-a0c0-4bd9-8baa-797356                  0                0   \n",
       "2  86a8-6b735c67-86a8-407b-ba24-333055                  0                0   \n",
       "3  6a3d-6b736346-6a3d-4085-934b-396834                  0                0   \n",
       "4  b74a-6b737717-b74a-45c3-8c6a-421140                  0                1   \n",
       "\n",
       "   basket_add_detail  sort_by  image_picker  account_page_click  \\\n",
       "0                  0        0             0                   0   \n",
       "1                  0        0             0                   0   \n",
       "2                  0        0             0                   0   \n",
       "3                  0        0             0                   0   \n",
       "4                  0        1             0                   0   \n",
       "\n",
       "   promo_banner_click  detail_wishlist_add  list_size_dropdown  ...  \\\n",
       "0                   0                    0                   0  ...   \n",
       "1                   0                    0                   0  ...   \n",
       "2                   0                    0                   0  ...   \n",
       "3                   0                    0                   0  ...   \n",
       "4                   0                    0                   1  ...   \n",
       "\n",
       "   saw_sizecharts  saw_delivery  saw_account_upgrade  saw_homepage  \\\n",
       "0               0             0                    0             0   \n",
       "1               0             0                    0             0   \n",
       "2               0             0                    0             0   \n",
       "3               0             0                    0             0   \n",
       "4               0             0                    0             1   \n",
       "\n",
       "   device_mobile  device_computer  device_tablet  returning_user  loc_uk  \\\n",
       "0              1                0              0               0       1   \n",
       "1              1                0              0               0       1   \n",
       "2              1                0              0               1       1   \n",
       "3              1                0              0               1       1   \n",
       "4              0                0              1               0       1   \n",
       "\n",
       "   ordered  \n",
       "0        0  \n",
       "1        0  \n",
       "2        0  \n",
       "3        0  \n",
       "4        1  \n",
       "\n",
       "[5 rows x 25 columns]"
      ]
     },
     "execution_count": 25,
     "metadata": {},
     "output_type": "execute_result"
    }
   ],
   "source": [
    "data.head()"
   ]
  },
  {
   "cell_type": "code",
   "execution_count": 26,
   "id": "908529e7",
   "metadata": {
    "ExecuteTime": {
     "end_time": "2022-03-02T12:27:12.833990Z",
     "start_time": "2022-03-02T12:27:12.672190Z"
    },
    "execution": {
     "iopub.execute_input": "2022-01-30T17:31:37.490600Z",
     "iopub.status.busy": "2022-01-30T17:31:37.489884Z",
     "iopub.status.idle": "2022-01-30T17:31:37.866176Z",
     "shell.execute_reply": "2022-01-30T17:31:37.866725Z",
     "shell.execute_reply.started": "2022-01-30T17:04:38.898399Z"
    },
    "papermill": {
     "duration": 0.425835,
     "end_time": "2022-01-30T17:31:37.866932",
     "exception": false,
     "start_time": "2022-01-30T17:31:37.441097",
     "status": "completed"
    },
    "tags": []
   },
   "outputs": [
    {
     "data": {
      "text/html": [
       "<div>\n",
       "<style scoped>\n",
       "    .dataframe tbody tr th:only-of-type {\n",
       "        vertical-align: middle;\n",
       "    }\n",
       "\n",
       "    .dataframe tbody tr th {\n",
       "        vertical-align: top;\n",
       "    }\n",
       "\n",
       "    .dataframe thead th {\n",
       "        text-align: right;\n",
       "    }\n",
       "</style>\n",
       "<table border=\"1\" class=\"dataframe\">\n",
       "  <thead>\n",
       "    <tr style=\"text-align: right;\">\n",
       "      <th></th>\n",
       "      <th>basket_icon_click</th>\n",
       "      <th>basket_add_list</th>\n",
       "      <th>basket_add_detail</th>\n",
       "      <th>sort_by</th>\n",
       "      <th>image_picker</th>\n",
       "      <th>account_page_click</th>\n",
       "      <th>promo_banner_click</th>\n",
       "      <th>detail_wishlist_add</th>\n",
       "      <th>list_size_dropdown</th>\n",
       "      <th>closed_minibasket_click</th>\n",
       "      <th>...</th>\n",
       "      <th>saw_sizecharts</th>\n",
       "      <th>saw_delivery</th>\n",
       "      <th>saw_account_upgrade</th>\n",
       "      <th>saw_homepage</th>\n",
       "      <th>device_mobile</th>\n",
       "      <th>device_computer</th>\n",
       "      <th>device_tablet</th>\n",
       "      <th>returning_user</th>\n",
       "      <th>loc_uk</th>\n",
       "      <th>ordered</th>\n",
       "    </tr>\n",
       "  </thead>\n",
       "  <tbody>\n",
       "    <tr>\n",
       "      <th>count</th>\n",
       "      <td>455401.000000</td>\n",
       "      <td>455401.000000</td>\n",
       "      <td>455401.000000</td>\n",
       "      <td>455401.000000</td>\n",
       "      <td>455401.000000</td>\n",
       "      <td>455401.000000</td>\n",
       "      <td>455401.000000</td>\n",
       "      <td>455401.000000</td>\n",
       "      <td>455401.000000</td>\n",
       "      <td>455401.000000</td>\n",
       "      <td>...</td>\n",
       "      <td>455401.000000</td>\n",
       "      <td>455401.000000</td>\n",
       "      <td>455401.000000</td>\n",
       "      <td>455401.000000</td>\n",
       "      <td>455401.000000</td>\n",
       "      <td>455401.000000</td>\n",
       "      <td>455401.000000</td>\n",
       "      <td>455401.000000</td>\n",
       "      <td>455401.000000</td>\n",
       "      <td>455401.000000</td>\n",
       "    </tr>\n",
       "    <tr>\n",
       "      <th>mean</th>\n",
       "      <td>0.099150</td>\n",
       "      <td>0.074521</td>\n",
       "      <td>0.112916</td>\n",
       "      <td>0.036849</td>\n",
       "      <td>0.026735</td>\n",
       "      <td>0.003570</td>\n",
       "      <td>0.016208</td>\n",
       "      <td>0.003511</td>\n",
       "      <td>0.230362</td>\n",
       "      <td>0.017277</td>\n",
       "      <td>...</td>\n",
       "      <td>0.000389</td>\n",
       "      <td>0.005542</td>\n",
       "      <td>0.001096</td>\n",
       "      <td>0.290024</td>\n",
       "      <td>0.680706</td>\n",
       "      <td>0.194220</td>\n",
       "      <td>0.128364</td>\n",
       "      <td>0.534915</td>\n",
       "      <td>0.933224</td>\n",
       "      <td>0.041926</td>\n",
       "    </tr>\n",
       "    <tr>\n",
       "      <th>std</th>\n",
       "      <td>0.298864</td>\n",
       "      <td>0.262617</td>\n",
       "      <td>0.316490</td>\n",
       "      <td>0.188391</td>\n",
       "      <td>0.161307</td>\n",
       "      <td>0.059647</td>\n",
       "      <td>0.126274</td>\n",
       "      <td>0.059151</td>\n",
       "      <td>0.421065</td>\n",
       "      <td>0.130302</td>\n",
       "      <td>...</td>\n",
       "      <td>0.019711</td>\n",
       "      <td>0.074241</td>\n",
       "      <td>0.033084</td>\n",
       "      <td>0.453773</td>\n",
       "      <td>0.466204</td>\n",
       "      <td>0.395599</td>\n",
       "      <td>0.334495</td>\n",
       "      <td>0.498780</td>\n",
       "      <td>0.249634</td>\n",
       "      <td>0.200420</td>\n",
       "    </tr>\n",
       "    <tr>\n",
       "      <th>min</th>\n",
       "      <td>0.000000</td>\n",
       "      <td>0.000000</td>\n",
       "      <td>0.000000</td>\n",
       "      <td>0.000000</td>\n",
       "      <td>0.000000</td>\n",
       "      <td>0.000000</td>\n",
       "      <td>0.000000</td>\n",
       "      <td>0.000000</td>\n",
       "      <td>0.000000</td>\n",
       "      <td>0.000000</td>\n",
       "      <td>...</td>\n",
       "      <td>0.000000</td>\n",
       "      <td>0.000000</td>\n",
       "      <td>0.000000</td>\n",
       "      <td>0.000000</td>\n",
       "      <td>0.000000</td>\n",
       "      <td>0.000000</td>\n",
       "      <td>0.000000</td>\n",
       "      <td>0.000000</td>\n",
       "      <td>0.000000</td>\n",
       "      <td>0.000000</td>\n",
       "    </tr>\n",
       "    <tr>\n",
       "      <th>25%</th>\n",
       "      <td>0.000000</td>\n",
       "      <td>0.000000</td>\n",
       "      <td>0.000000</td>\n",
       "      <td>0.000000</td>\n",
       "      <td>0.000000</td>\n",
       "      <td>0.000000</td>\n",
       "      <td>0.000000</td>\n",
       "      <td>0.000000</td>\n",
       "      <td>0.000000</td>\n",
       "      <td>0.000000</td>\n",
       "      <td>...</td>\n",
       "      <td>0.000000</td>\n",
       "      <td>0.000000</td>\n",
       "      <td>0.000000</td>\n",
       "      <td>0.000000</td>\n",
       "      <td>0.000000</td>\n",
       "      <td>0.000000</td>\n",
       "      <td>0.000000</td>\n",
       "      <td>0.000000</td>\n",
       "      <td>1.000000</td>\n",
       "      <td>0.000000</td>\n",
       "    </tr>\n",
       "    <tr>\n",
       "      <th>50%</th>\n",
       "      <td>0.000000</td>\n",
       "      <td>0.000000</td>\n",
       "      <td>0.000000</td>\n",
       "      <td>0.000000</td>\n",
       "      <td>0.000000</td>\n",
       "      <td>0.000000</td>\n",
       "      <td>0.000000</td>\n",
       "      <td>0.000000</td>\n",
       "      <td>0.000000</td>\n",
       "      <td>0.000000</td>\n",
       "      <td>...</td>\n",
       "      <td>0.000000</td>\n",
       "      <td>0.000000</td>\n",
       "      <td>0.000000</td>\n",
       "      <td>0.000000</td>\n",
       "      <td>1.000000</td>\n",
       "      <td>0.000000</td>\n",
       "      <td>0.000000</td>\n",
       "      <td>1.000000</td>\n",
       "      <td>1.000000</td>\n",
       "      <td>0.000000</td>\n",
       "    </tr>\n",
       "    <tr>\n",
       "      <th>75%</th>\n",
       "      <td>0.000000</td>\n",
       "      <td>0.000000</td>\n",
       "      <td>0.000000</td>\n",
       "      <td>0.000000</td>\n",
       "      <td>0.000000</td>\n",
       "      <td>0.000000</td>\n",
       "      <td>0.000000</td>\n",
       "      <td>0.000000</td>\n",
       "      <td>0.000000</td>\n",
       "      <td>0.000000</td>\n",
       "      <td>...</td>\n",
       "      <td>0.000000</td>\n",
       "      <td>0.000000</td>\n",
       "      <td>0.000000</td>\n",
       "      <td>1.000000</td>\n",
       "      <td>1.000000</td>\n",
       "      <td>0.000000</td>\n",
       "      <td>0.000000</td>\n",
       "      <td>1.000000</td>\n",
       "      <td>1.000000</td>\n",
       "      <td>0.000000</td>\n",
       "    </tr>\n",
       "    <tr>\n",
       "      <th>max</th>\n",
       "      <td>1.000000</td>\n",
       "      <td>1.000000</td>\n",
       "      <td>1.000000</td>\n",
       "      <td>1.000000</td>\n",
       "      <td>1.000000</td>\n",
       "      <td>1.000000</td>\n",
       "      <td>1.000000</td>\n",
       "      <td>1.000000</td>\n",
       "      <td>1.000000</td>\n",
       "      <td>1.000000</td>\n",
       "      <td>...</td>\n",
       "      <td>1.000000</td>\n",
       "      <td>1.000000</td>\n",
       "      <td>1.000000</td>\n",
       "      <td>1.000000</td>\n",
       "      <td>1.000000</td>\n",
       "      <td>1.000000</td>\n",
       "      <td>1.000000</td>\n",
       "      <td>1.000000</td>\n",
       "      <td>1.000000</td>\n",
       "      <td>1.000000</td>\n",
       "    </tr>\n",
       "  </tbody>\n",
       "</table>\n",
       "<p>8 rows × 24 columns</p>\n",
       "</div>"
      ],
      "text/plain": [
       "       basket_icon_click  basket_add_list  basket_add_detail        sort_by  \\\n",
       "count      455401.000000    455401.000000      455401.000000  455401.000000   \n",
       "mean            0.099150         0.074521           0.112916       0.036849   \n",
       "std             0.298864         0.262617           0.316490       0.188391   \n",
       "min             0.000000         0.000000           0.000000       0.000000   \n",
       "25%             0.000000         0.000000           0.000000       0.000000   \n",
       "50%             0.000000         0.000000           0.000000       0.000000   \n",
       "75%             0.000000         0.000000           0.000000       0.000000   \n",
       "max             1.000000         1.000000           1.000000       1.000000   \n",
       "\n",
       "        image_picker  account_page_click  promo_banner_click  \\\n",
       "count  455401.000000       455401.000000       455401.000000   \n",
       "mean        0.026735            0.003570            0.016208   \n",
       "std         0.161307            0.059647            0.126274   \n",
       "min         0.000000            0.000000            0.000000   \n",
       "25%         0.000000            0.000000            0.000000   \n",
       "50%         0.000000            0.000000            0.000000   \n",
       "75%         0.000000            0.000000            0.000000   \n",
       "max         1.000000            1.000000            1.000000   \n",
       "\n",
       "       detail_wishlist_add  list_size_dropdown  closed_minibasket_click  ...  \\\n",
       "count        455401.000000       455401.000000            455401.000000  ...   \n",
       "mean              0.003511            0.230362                 0.017277  ...   \n",
       "std               0.059151            0.421065                 0.130302  ...   \n",
       "min               0.000000            0.000000                 0.000000  ...   \n",
       "25%               0.000000            0.000000                 0.000000  ...   \n",
       "50%               0.000000            0.000000                 0.000000  ...   \n",
       "75%               0.000000            0.000000                 0.000000  ...   \n",
       "max               1.000000            1.000000                 1.000000  ...   \n",
       "\n",
       "       saw_sizecharts   saw_delivery  saw_account_upgrade   saw_homepage  \\\n",
       "count   455401.000000  455401.000000        455401.000000  455401.000000   \n",
       "mean         0.000389       0.005542             0.001096       0.290024   \n",
       "std          0.019711       0.074241             0.033084       0.453773   \n",
       "min          0.000000       0.000000             0.000000       0.000000   \n",
       "25%          0.000000       0.000000             0.000000       0.000000   \n",
       "50%          0.000000       0.000000             0.000000       0.000000   \n",
       "75%          0.000000       0.000000             0.000000       1.000000   \n",
       "max          1.000000       1.000000             1.000000       1.000000   \n",
       "\n",
       "       device_mobile  device_computer  device_tablet  returning_user  \\\n",
       "count  455401.000000    455401.000000  455401.000000   455401.000000   \n",
       "mean        0.680706         0.194220       0.128364        0.534915   \n",
       "std         0.466204         0.395599       0.334495        0.498780   \n",
       "min         0.000000         0.000000       0.000000        0.000000   \n",
       "25%         0.000000         0.000000       0.000000        0.000000   \n",
       "50%         1.000000         0.000000       0.000000        1.000000   \n",
       "75%         1.000000         0.000000       0.000000        1.000000   \n",
       "max         1.000000         1.000000       1.000000        1.000000   \n",
       "\n",
       "              loc_uk        ordered  \n",
       "count  455401.000000  455401.000000  \n",
       "mean        0.933224       0.041926  \n",
       "std         0.249634       0.200420  \n",
       "min         0.000000       0.000000  \n",
       "25%         1.000000       0.000000  \n",
       "50%         1.000000       0.000000  \n",
       "75%         1.000000       0.000000  \n",
       "max         1.000000       1.000000  \n",
       "\n",
       "[8 rows x 24 columns]"
      ]
     },
     "execution_count": 26,
     "metadata": {},
     "output_type": "execute_result"
    }
   ],
   "source": [
    "data.describe()"
   ]
  },
  {
   "cell_type": "markdown",
   "id": "14aa8768",
   "metadata": {
    "papermill": {
     "duration": 0.038525,
     "end_time": "2022-01-30T17:31:38.047121",
     "exception": false,
     "start_time": "2022-01-30T17:31:38.008596",
     "status": "completed"
    },
    "tags": []
   },
   "source": [
    "## Data Preprocessing"
   ]
  },
  {
   "cell_type": "markdown",
   "id": "10579e5e",
   "metadata": {
    "papermill": {
     "duration": 0.038562,
     "end_time": "2022-01-30T17:31:38.125589",
     "exception": false,
     "start_time": "2022-01-30T17:31:38.087027",
     "status": "completed"
    },
    "tags": []
   },
   "source": [
    "### Checking the data"
   ]
  },
  {
   "cell_type": "code",
   "execution_count": 27,
   "id": "64f9efbd",
   "metadata": {
    "ExecuteTime": {
     "end_time": "2022-03-02T12:27:13.408896Z",
     "start_time": "2022-03-02T12:27:13.340499Z"
    },
    "execution": {
     "iopub.execute_input": "2022-01-30T17:31:38.208807Z",
     "iopub.status.busy": "2022-01-30T17:31:38.207338Z",
     "iopub.status.idle": "2022-01-30T17:31:38.283610Z",
     "shell.execute_reply": "2022-01-30T17:31:38.282978Z",
     "shell.execute_reply.started": "2022-01-30T17:04:39.238249Z"
    },
    "papermill": {
     "duration": 0.118938,
     "end_time": "2022-01-30T17:31:38.283771",
     "exception": false,
     "start_time": "2022-01-30T17:31:38.164833",
     "status": "completed"
    },
    "tags": []
   },
   "outputs": [
    {
     "data": {
      "text/plain": [
       "UserID                     0\n",
       "basket_icon_click          0\n",
       "basket_add_list            0\n",
       "basket_add_detail          0\n",
       "sort_by                    0\n",
       "image_picker               0\n",
       "account_page_click         0\n",
       "promo_banner_click         0\n",
       "detail_wishlist_add        0\n",
       "list_size_dropdown         0\n",
       "closed_minibasket_click    0\n",
       "checked_delivery_detail    0\n",
       "checked_returns_detail     0\n",
       "sign_in                    0\n",
       "saw_checkout               0\n",
       "saw_sizecharts             0\n",
       "saw_delivery               0\n",
       "saw_account_upgrade        0\n",
       "saw_homepage               0\n",
       "device_mobile              0\n",
       "device_computer            0\n",
       "device_tablet              0\n",
       "returning_user             0\n",
       "loc_uk                     0\n",
       "ordered                    0\n",
       "dtype: int64"
      ]
     },
     "execution_count": 27,
     "metadata": {},
     "output_type": "execute_result"
    }
   ],
   "source": [
    "data.isna().sum()"
   ]
  },
  {
   "cell_type": "markdown",
   "id": "78f3f4f6",
   "metadata": {
    "papermill": {
     "duration": 0.038316,
     "end_time": "2022-01-30T17:31:38.360412",
     "exception": false,
     "start_time": "2022-01-30T17:31:38.322096",
     "status": "completed"
    },
    "tags": []
   },
   "source": [
    "from above, we can see there is no nan values in the data set"
   ]
  },
  {
   "cell_type": "code",
   "execution_count": 28,
   "id": "eda56424",
   "metadata": {
    "ExecuteTime": {
     "end_time": "2022-03-02T12:27:13.907350Z",
     "start_time": "2022-03-02T12:27:13.840433Z"
    },
    "execution": {
     "iopub.execute_input": "2022-01-30T17:31:38.445224Z",
     "iopub.status.busy": "2022-01-30T17:31:38.444461Z",
     "iopub.status.idle": "2022-01-30T17:31:38.526240Z",
     "shell.execute_reply": "2022-01-30T17:31:38.526990Z",
     "shell.execute_reply.started": "2022-01-30T17:04:39.319228Z"
    },
    "papermill": {
     "duration": 0.126961,
     "end_time": "2022-01-30T17:31:38.527279",
     "exception": false,
     "start_time": "2022-01-30T17:31:38.400318",
     "status": "completed"
    },
    "tags": []
   },
   "outputs": [
    {
     "name": "stdout",
     "output_type": "stream",
     "text": [
      "<class 'pandas.core.frame.DataFrame'>\n",
      "RangeIndex: 455401 entries, 0 to 455400\n",
      "Data columns (total 25 columns):\n",
      " #   Column                   Non-Null Count   Dtype \n",
      "---  ------                   --------------   ----- \n",
      " 0   UserID                   455401 non-null  object\n",
      " 1   basket_icon_click        455401 non-null  int64 \n",
      " 2   basket_add_list          455401 non-null  int64 \n",
      " 3   basket_add_detail        455401 non-null  int64 \n",
      " 4   sort_by                  455401 non-null  int64 \n",
      " 5   image_picker             455401 non-null  int64 \n",
      " 6   account_page_click       455401 non-null  int64 \n",
      " 7   promo_banner_click       455401 non-null  int64 \n",
      " 8   detail_wishlist_add      455401 non-null  int64 \n",
      " 9   list_size_dropdown       455401 non-null  int64 \n",
      " 10  closed_minibasket_click  455401 non-null  int64 \n",
      " 11  checked_delivery_detail  455401 non-null  int64 \n",
      " 12  checked_returns_detail   455401 non-null  int64 \n",
      " 13  sign_in                  455401 non-null  int64 \n",
      " 14  saw_checkout             455401 non-null  int64 \n",
      " 15  saw_sizecharts           455401 non-null  int64 \n",
      " 16  saw_delivery             455401 non-null  int64 \n",
      " 17  saw_account_upgrade      455401 non-null  int64 \n",
      " 18  saw_homepage             455401 non-null  int64 \n",
      " 19  device_mobile            455401 non-null  int64 \n",
      " 20  device_computer          455401 non-null  int64 \n",
      " 21  device_tablet            455401 non-null  int64 \n",
      " 22  returning_user           455401 non-null  int64 \n",
      " 23  loc_uk                   455401 non-null  int64 \n",
      " 24  ordered                  455401 non-null  int64 \n",
      "dtypes: int64(24), object(1)\n",
      "memory usage: 86.9+ MB\n"
     ]
    }
   ],
   "source": [
    "data.info()"
   ]
  },
  {
   "cell_type": "code",
   "execution_count": 29,
   "id": "a79fe699",
   "metadata": {
    "ExecuteTime": {
     "end_time": "2022-03-02T12:27:14.102506Z",
     "start_time": "2022-03-02T12:27:14.073898Z"
    }
   },
   "outputs": [
    {
     "data": {
      "text/plain": [
       "ordered\n",
       "0    436308\n",
       "1     19093\n",
       "Name: ordered, dtype: int64"
      ]
     },
     "execution_count": 29,
     "metadata": {},
     "output_type": "execute_result"
    }
   ],
   "source": [
    "data.groupby('ordered').ordered.count()"
   ]
  },
  {
   "cell_type": "markdown",
   "id": "892c6a61",
   "metadata": {},
   "source": [
    "Above we can see that the dataset is highly imbalanced so the prediction will be biased. \n",
    "\n",
    "To solve this problem, we can use undersampling. Undersampling is a technique to balance uneven datasets by keeping all of the data in the minority class and decreasing the size of the majority class."
   ]
  },
  {
   "cell_type": "code",
   "execution_count": 30,
   "id": "7d9d5ce1",
   "metadata": {
    "ExecuteTime": {
     "end_time": "2022-03-02T12:27:14.440438Z",
     "start_time": "2022-03-02T12:27:14.342407Z"
    }
   },
   "outputs": [
    {
     "data": {
      "text/plain": [
       "ordered\n",
       "0    19093\n",
       "1    19093\n",
       "Name: ordered, dtype: int64"
      ]
     },
     "execution_count": 30,
     "metadata": {},
     "output_type": "execute_result"
    }
   ],
   "source": [
    "data_balanced = data.groupby('ordered').apply(lambda x: x.sample(19093)).reset_index(drop=True)\n",
    "data = data_balanced.sample(frac = 1)\n",
    "data.groupby('ordered').ordered.count()"
   ]
  },
  {
   "cell_type": "code",
   "execution_count": 31,
   "id": "6d4c39e2",
   "metadata": {
    "ExecuteTime": {
     "end_time": "2022-03-02T12:27:14.599724Z",
     "start_time": "2022-03-02T12:27:14.593516Z"
    },
    "execution": {
     "iopub.execute_input": "2022-01-30T17:31:38.645780Z",
     "iopub.status.busy": "2022-01-30T17:31:38.644975Z",
     "iopub.status.idle": "2022-01-30T17:31:38.648684Z",
     "shell.execute_reply": "2022-01-30T17:31:38.648121Z",
     "shell.execute_reply.started": "2022-01-30T17:04:39.412436Z"
    },
    "papermill": {
     "duration": 0.08075,
     "end_time": "2022-01-30T17:31:38.648846",
     "exception": false,
     "start_time": "2022-01-30T17:31:38.568096",
     "status": "completed"
    },
    "tags": []
   },
   "outputs": [],
   "source": [
    "X = data[['basket_add_detail', 'promo_banner_click', 'sign_in', 'saw_homepage', 'returning_user']]\n",
    "y = data['ordered']"
   ]
  },
  {
   "cell_type": "markdown",
   "id": "87ed108f",
   "metadata": {
    "papermill": {
     "duration": 0.040754,
     "end_time": "2022-01-30T17:31:38.729953",
     "exception": false,
     "start_time": "2022-01-30T17:31:38.689199",
     "status": "completed"
    },
    "tags": []
   },
   "source": [
    "## Feature selection"
   ]
  },
  {
   "cell_type": "code",
   "execution_count": 32,
   "id": "0efca053",
   "metadata": {
    "ExecuteTime": {
     "end_time": "2022-03-02T12:27:18.815071Z",
     "start_time": "2022-03-02T12:27:18.660516Z"
    },
    "execution": {
     "iopub.execute_input": "2022-01-30T17:31:38.814539Z",
     "iopub.status.busy": "2022-01-30T17:31:38.813513Z",
     "iopub.status.idle": "2022-01-30T17:31:40.491716Z",
     "shell.execute_reply": "2022-01-30T17:31:40.492230Z",
     "shell.execute_reply.started": "2022-01-30T17:04:39.469434Z"
    },
    "papermill": {
     "duration": 1.722721,
     "end_time": "2022-01-30T17:31:40.492434",
     "exception": false,
     "start_time": "2022-01-30T17:31:38.769713",
     "status": "completed"
    },
    "tags": []
   },
   "outputs": [
    {
     "data": {
      "image/png": "[encoded data removed]",
      "text/plain": [
       "<Figure size 1440x1080 with 2 Axes>"
      ]
     },
     "metadata": {
      "needs_background": "light"
     },
     "output_type": "display_data"
    }
   ],
   "source": [
    "plt.figure(figsize=(20,15))\n",
    "sns.heatmap(X.corr(),linewidth=2)\n",
    "plt.show()"
   ]
  },
  {
   "cell_type": "code",
   "execution_count": 33,
   "id": "579bc135",
   "metadata": {
    "ExecuteTime": {
     "end_time": "2022-03-02T12:27:18.939458Z",
     "start_time": "2022-03-02T12:27:18.936460Z"
    },
    "execution": {
     "iopub.execute_input": "2022-01-30T17:31:40.578568Z",
     "iopub.status.busy": "2022-01-30T17:31:40.577616Z",
     "iopub.status.idle": "2022-01-30T17:31:40.583709Z",
     "shell.execute_reply": "2022-01-30T17:31:40.584168Z",
     "shell.execute_reply.started": "2022-01-30T17:04:41.050526Z"
    },
    "papermill": {
     "duration": 0.050568,
     "end_time": "2022-01-30T17:31:40.584346",
     "exception": false,
     "start_time": "2022-01-30T17:31:40.533778",
     "status": "completed"
    },
    "tags": []
   },
   "outputs": [],
   "source": [
    "def correlation(dataset, threshold):\n",
    "    col_corr = set()  # Set of all the names of correlated columns\n",
    "    corr_matrix = dataset.corr()\n",
    "    for i in range(len(corr_matrix.columns)):\n",
    "        for j in range(i):\n",
    "            if abs(corr_matrix.iloc[i, j]) > threshold: # we are interested in absolute coeff value\n",
    "                colname = corr_matrix.columns[i]  # getting the name of column\n",
    "                col_corr.add(colname)\n",
    "    return col_corr"
   ]
  },
  {
   "cell_type": "code",
   "execution_count": 34,
   "id": "9cf6ec76",
   "metadata": {
    "ExecuteTime": {
     "end_time": "2022-03-02T12:27:19.341996Z",
     "start_time": "2022-03-02T12:27:19.323561Z"
    },
    "execution": {
     "iopub.execute_input": "2022-01-30T17:31:40.670039Z",
     "iopub.status.busy": "2022-01-30T17:31:40.669323Z",
     "iopub.status.idle": "2022-01-30T17:31:41.495242Z",
     "shell.execute_reply": "2022-01-30T17:31:41.494561Z",
     "shell.execute_reply.started": "2022-01-30T17:04:41.061872Z"
    },
    "papermill": {
     "duration": 0.870321,
     "end_time": "2022-01-30T17:31:41.495385",
     "exception": false,
     "start_time": "2022-01-30T17:31:40.625064",
     "status": "completed"
    },
    "tags": []
   },
   "outputs": [
    {
     "data": {
      "text/plain": [
       "0"
      ]
     },
     "execution_count": 34,
     "metadata": {},
     "output_type": "execute_result"
    }
   ],
   "source": [
    "corr_features = correlation(X, 0.7)\n",
    "len(set(corr_features))\n"
   ]
  },
  {
   "cell_type": "code",
   "execution_count": 35,
   "id": "6855e0cb",
   "metadata": {
    "ExecuteTime": {
     "end_time": "2022-03-02T12:27:19.699749Z",
     "start_time": "2022-03-02T12:27:19.692499Z"
    },
    "execution": {
     "iopub.execute_input": "2022-01-30T17:31:41.581427Z",
     "iopub.status.busy": "2022-01-30T17:31:41.580811Z",
     "iopub.status.idle": "2022-01-30T17:31:41.585716Z",
     "shell.execute_reply": "2022-01-30T17:31:41.586293Z",
     "shell.execute_reply.started": "2022-01-30T17:04:41.891401Z"
    },
    "papermill": {
     "duration": 0.049959,
     "end_time": "2022-01-30T17:31:41.586473",
     "exception": false,
     "start_time": "2022-01-30T17:31:41.536514",
     "status": "completed"
    },
    "tags": []
   },
   "outputs": [
    {
     "data": {
      "text/plain": [
       "set()"
      ]
     },
     "execution_count": 35,
     "metadata": {},
     "output_type": "execute_result"
    }
   ],
   "source": [
    "corr_features"
   ]
  },
  {
   "cell_type": "code",
   "execution_count": 36,
   "id": "f44d4689",
   "metadata": {
    "ExecuteTime": {
     "end_time": "2022-03-02T12:27:20.212983Z",
     "start_time": "2022-03-02T12:27:20.192423Z"
    },
    "execution": {
     "iopub.execute_input": "2022-01-30T17:31:41.672661Z",
     "iopub.status.busy": "2022-01-30T17:31:41.671979Z",
     "iopub.status.idle": "2022-01-30T17:31:41.804463Z",
     "shell.execute_reply": "2022-01-30T17:31:41.803813Z",
     "shell.execute_reply.started": "2022-01-30T17:04:41.901275Z"
    },
    "papermill": {
     "duration": 0.177013,
     "end_time": "2022-01-30T17:31:41.804647",
     "exception": false,
     "start_time": "2022-01-30T17:31:41.627634",
     "status": "completed"
    },
    "tags": []
   },
   "outputs": [
    {
     "data": {
      "text/html": [
       "<div>\n",
       "<style scoped>\n",
       "    .dataframe tbody tr th:only-of-type {\n",
       "        vertical-align: middle;\n",
       "    }\n",
       "\n",
       "    .dataframe tbody tr th {\n",
       "        vertical-align: top;\n",
       "    }\n",
       "\n",
       "    .dataframe thead th {\n",
       "        text-align: right;\n",
       "    }\n",
       "</style>\n",
       "<table border=\"1\" class=\"dataframe\">\n",
       "  <thead>\n",
       "    <tr style=\"text-align: right;\">\n",
       "      <th></th>\n",
       "      <th>basket_add_detail</th>\n",
       "      <th>promo_banner_click</th>\n",
       "      <th>sign_in</th>\n",
       "      <th>saw_homepage</th>\n",
       "      <th>returning_user</th>\n",
       "    </tr>\n",
       "  </thead>\n",
       "  <tbody>\n",
       "    <tr>\n",
       "      <th>4817</th>\n",
       "      <td>0</td>\n",
       "      <td>0</td>\n",
       "      <td>0</td>\n",
       "      <td>0</td>\n",
       "      <td>1</td>\n",
       "    </tr>\n",
       "    <tr>\n",
       "      <th>20146</th>\n",
       "      <td>0</td>\n",
       "      <td>0</td>\n",
       "      <td>1</td>\n",
       "      <td>1</td>\n",
       "      <td>1</td>\n",
       "    </tr>\n",
       "    <tr>\n",
       "      <th>35621</th>\n",
       "      <td>1</td>\n",
       "      <td>0</td>\n",
       "      <td>1</td>\n",
       "      <td>1</td>\n",
       "      <td>1</td>\n",
       "    </tr>\n",
       "    <tr>\n",
       "      <th>34816</th>\n",
       "      <td>0</td>\n",
       "      <td>0</td>\n",
       "      <td>1</td>\n",
       "      <td>1</td>\n",
       "      <td>1</td>\n",
       "    </tr>\n",
       "    <tr>\n",
       "      <th>11855</th>\n",
       "      <td>0</td>\n",
       "      <td>0</td>\n",
       "      <td>0</td>\n",
       "      <td>0</td>\n",
       "      <td>0</td>\n",
       "    </tr>\n",
       "    <tr>\n",
       "      <th>...</th>\n",
       "      <td>...</td>\n",
       "      <td>...</td>\n",
       "      <td>...</td>\n",
       "      <td>...</td>\n",
       "      <td>...</td>\n",
       "    </tr>\n",
       "    <tr>\n",
       "      <th>13461</th>\n",
       "      <td>0</td>\n",
       "      <td>0</td>\n",
       "      <td>0</td>\n",
       "      <td>0</td>\n",
       "      <td>1</td>\n",
       "    </tr>\n",
       "    <tr>\n",
       "      <th>29476</th>\n",
       "      <td>1</td>\n",
       "      <td>0</td>\n",
       "      <td>1</td>\n",
       "      <td>1</td>\n",
       "      <td>0</td>\n",
       "    </tr>\n",
       "    <tr>\n",
       "      <th>15028</th>\n",
       "      <td>1</td>\n",
       "      <td>0</td>\n",
       "      <td>0</td>\n",
       "      <td>0</td>\n",
       "      <td>1</td>\n",
       "    </tr>\n",
       "    <tr>\n",
       "      <th>3305</th>\n",
       "      <td>0</td>\n",
       "      <td>0</td>\n",
       "      <td>0</td>\n",
       "      <td>1</td>\n",
       "      <td>1</td>\n",
       "    </tr>\n",
       "    <tr>\n",
       "      <th>20944</th>\n",
       "      <td>1</td>\n",
       "      <td>0</td>\n",
       "      <td>1</td>\n",
       "      <td>1</td>\n",
       "      <td>1</td>\n",
       "    </tr>\n",
       "  </tbody>\n",
       "</table>\n",
       "<p>38186 rows × 5 columns</p>\n",
       "</div>"
      ],
      "text/plain": [
       "       basket_add_detail  promo_banner_click  sign_in  saw_homepage  \\\n",
       "4817                   0                   0        0             0   \n",
       "20146                  0                   0        1             1   \n",
       "35621                  1                   0        1             1   \n",
       "34816                  0                   0        1             1   \n",
       "11855                  0                   0        0             0   \n",
       "...                  ...                 ...      ...           ...   \n",
       "13461                  0                   0        0             0   \n",
       "29476                  1                   0        1             1   \n",
       "15028                  1                   0        0             0   \n",
       "3305                   0                   0        0             1   \n",
       "20944                  1                   0        1             1   \n",
       "\n",
       "       returning_user  \n",
       "4817                1  \n",
       "20146               1  \n",
       "35621               1  \n",
       "34816               1  \n",
       "11855               0  \n",
       "...               ...  \n",
       "13461               1  \n",
       "29476               0  \n",
       "15028               1  \n",
       "3305                1  \n",
       "20944               1  \n",
       "\n",
       "[38186 rows x 5 columns]"
      ]
     },
     "execution_count": 36,
     "metadata": {},
     "output_type": "execute_result"
    }
   ],
   "source": [
    "X = X.drop(corr_features,axis=1)\n",
    "X"
   ]
  },
  {
   "cell_type": "markdown",
   "id": "10922aa6",
   "metadata": {
    "papermill": {
     "duration": 0.042145,
     "end_time": "2022-01-30T17:31:41.890786",
     "exception": false,
     "start_time": "2022-01-30T17:31:41.848641",
     "status": "completed"
    },
    "tags": []
   },
   "source": [
    "## Exploratory Data Analysis"
   ]
  },
  {
   "cell_type": "markdown",
   "id": "863ae44b",
   "metadata": {
    "papermill": {
     "duration": 0.042115,
     "end_time": "2022-01-30T17:31:41.975829",
     "exception": false,
     "start_time": "2022-01-30T17:31:41.933714",
     "status": "completed"
    },
    "tags": []
   },
   "source": [
    "How many users have purchased"
   ]
  },
  {
   "cell_type": "code",
   "execution_count": 37,
   "id": "4adccf9e",
   "metadata": {
    "ExecuteTime": {
     "end_time": "2022-03-02T12:27:22.378146Z",
     "start_time": "2022-03-02T12:27:22.279915Z"
    },
    "execution": {
     "iopub.execute_input": "2022-01-30T17:31:42.066895Z",
     "iopub.status.busy": "2022-01-30T17:31:42.066253Z",
     "iopub.status.idle": "2022-01-30T17:31:42.259511Z",
     "shell.execute_reply": "2022-01-30T17:31:42.260031Z",
     "shell.execute_reply.started": "2022-01-30T17:04:42.014081Z"
    },
    "papermill": {
     "duration": 0.241559,
     "end_time": "2022-01-30T17:31:42.260200",
     "exception": false,
     "start_time": "2022-01-30T17:31:42.018641",
     "status": "completed"
    },
    "tags": []
   },
   "outputs": [
    {
     "data": {
      "image/png": "[encoded data removed]",
      "text/plain": [
       "<Figure size 432x288 with 1 Axes>"
      ]
     },
     "metadata": {
      "needs_background": "light"
     },
     "output_type": "display_data"
    }
   ],
   "source": [
    "# \n",
    "ax = sns.countplot(data=data,x=\"ordered\")\n",
    "plt.show()"
   ]
  },
  {
   "cell_type": "code",
   "execution_count": 38,
   "id": "a2553fb7",
   "metadata": {
    "ExecuteTime": {
     "end_time": "2022-03-02T12:27:22.896691Z",
     "start_time": "2022-03-02T12:27:22.890385Z"
    },
    "execution": {
     "iopub.execute_input": "2022-01-30T17:31:42.349920Z",
     "iopub.status.busy": "2022-01-30T17:31:42.349202Z",
     "iopub.status.idle": "2022-01-30T17:31:42.352668Z",
     "shell.execute_reply": "2022-01-30T17:31:42.353202Z",
     "shell.execute_reply.started": "2022-01-30T17:04:42.200112Z"
    },
    "papermill": {
     "duration": 0.050449,
     "end_time": "2022-01-30T17:31:42.353371",
     "exception": false,
     "start_time": "2022-01-30T17:31:42.302922",
     "status": "completed"
    },
    "tags": []
   },
   "outputs": [],
   "source": [
    "dataframe=data"
   ]
  },
  {
   "cell_type": "markdown",
   "id": "8d20f72c",
   "metadata": {
    "execution": {
     "iopub.execute_input": "2022-01-30T14:32:45.057436Z",
     "iopub.status.busy": "2022-01-30T14:32:45.057207Z",
     "iopub.status.idle": "2022-01-30T14:32:45.066826Z",
     "shell.execute_reply": "2022-01-30T14:32:45.06608Z",
     "shell.execute_reply.started": "2022-01-30T14:32:45.057409Z"
    },
    "papermill": {
     "duration": 0.0433,
     "end_time": "2022-01-30T17:31:42.440057",
     "exception": false,
     "start_time": "2022-01-30T17:31:42.396757",
     "status": "completed"
    },
    "tags": []
   },
   "source": [
    "### Model creation"
   ]
  },
  {
   "cell_type": "code",
   "execution_count": 39,
   "id": "ff230ba9",
   "metadata": {
    "ExecuteTime": {
     "end_time": "2022-03-02T12:27:23.758229Z",
     "start_time": "2022-03-02T12:27:23.741845Z"
    },
    "execution": {
     "iopub.execute_input": "2022-01-30T17:31:42.563207Z",
     "iopub.status.busy": "2022-01-30T17:31:42.561997Z",
     "iopub.status.idle": "2022-01-30T17:31:42.901185Z",
     "shell.execute_reply": "2022-01-30T17:31:42.900535Z",
     "shell.execute_reply.started": "2022-01-30T17:04:42.206388Z"
    },
    "papermill": {
     "duration": 0.415716,
     "end_time": "2022-01-30T17:31:42.901344",
     "exception": false,
     "start_time": "2022-01-30T17:31:42.485628",
     "status": "completed"
    },
    "tags": []
   },
   "outputs": [],
   "source": [
    "from sklearn.model_selection import train_test_split\n",
    "X_train,X_test,y_train,y_test = train_test_split(X,y,test_size=0.20,random_state=42)"
   ]
  },
  {
   "cell_type": "code",
   "execution_count": 40,
   "id": "26040d0e",
   "metadata": {
    "ExecuteTime": {
     "end_time": "2022-03-02T12:27:24.147779Z",
     "start_time": "2022-03-02T12:27:24.140406Z"
    },
    "execution": {
     "iopub.execute_input": "2022-01-30T17:31:43.000334Z",
     "iopub.status.busy": "2022-01-30T17:31:42.999637Z",
     "iopub.status.idle": "2022-01-30T17:31:43.006001Z",
     "shell.execute_reply": "2022-01-30T17:31:43.005415Z",
     "shell.execute_reply.started": "2022-01-30T17:04:42.414922Z"
    },
    "papermill": {
     "duration": 0.058124,
     "end_time": "2022-01-30T17:31:43.006145",
     "exception": false,
     "start_time": "2022-01-30T17:31:42.948021",
     "status": "completed"
    },
    "tags": []
   },
   "outputs": [
    {
     "name": "stdout",
     "output_type": "stream",
     "text": [
      "Total no. of samples: Training and Testing dataset separately!\n",
      "X_train: (30548, 5)\n",
      "y_train: (30548,)\n",
      "X_test: (7638, 5)\n",
      "y_test: (7638,)\n"
     ]
    }
   ],
   "source": [
    "print('Total no. of samples: Training and Testing dataset separately!')\n",
    "print('X_train:', np.shape(X_train))\n",
    "print('y_train:', np.shape(y_train))\n",
    "print('X_test:', np.shape(X_test))\n",
    "print('y_test:', np.shape(y_test))"
   ]
  },
  {
   "cell_type": "code",
   "execution_count": 41,
   "id": "2ff53a9a",
   "metadata": {
    "ExecuteTime": {
     "end_time": "2022-03-02T12:27:24.561684Z",
     "start_time": "2022-03-02T12:27:24.509725Z"
    },
    "execution": {
     "iopub.execute_input": "2022-01-30T17:31:43.103301Z",
     "iopub.status.busy": "2022-01-30T17:31:43.102637Z",
     "iopub.status.idle": "2022-01-30T17:31:46.561147Z",
     "shell.execute_reply": "2022-01-30T17:31:46.562114Z",
     "shell.execute_reply.started": "2022-01-30T17:04:42.424554Z"
    },
    "papermill": {
     "duration": 3.509446,
     "end_time": "2022-01-30T17:31:46.562434",
     "exception": false,
     "start_time": "2022-01-30T17:31:43.052988",
     "status": "completed"
    },
    "tags": []
   },
   "outputs": [
    {
     "data": {
      "text/plain": [
       "LogisticRegression()"
      ]
     },
     "execution_count": 41,
     "metadata": {},
     "output_type": "execute_result"
    }
   ],
   "source": [
    "from sklearn.linear_model import LogisticRegression\n",
    "classifier = LogisticRegression()\n",
    "classifier.fit(X_train,y_train)"
   ]
  },
  {
   "cell_type": "code",
   "execution_count": 43,
   "id": "12d7a825",
   "metadata": {
    "ExecuteTime": {
     "end_time": "2022-03-02T12:27:39.461606Z",
     "start_time": "2022-03-02T12:27:39.446933Z"
    },
    "execution": {
     "iopub.execute_input": "2022-01-30T17:31:46.709442Z",
     "iopub.status.busy": "2022-01-30T17:31:46.708227Z",
     "iopub.status.idle": "2022-01-30T17:31:46.917255Z",
     "shell.execute_reply": "2022-01-30T17:31:46.916297Z",
     "shell.execute_reply.started": "2022-01-30T17:17:34.549035Z"
    },
    "papermill": {
     "duration": 0.271712,
     "end_time": "2022-01-30T17:31:46.917491",
     "exception": false,
     "start_time": "2022-01-30T17:31:46.645779",
     "status": "completed"
    },
    "tags": []
   },
   "outputs": [
    {
     "name": "stdout",
     "output_type": "stream",
     "text": [
      "[[0 0]\n",
      " [0 0]\n",
      " [1 1]\n",
      " ...\n",
      " [0 0]\n",
      " [0 0]\n",
      " [0 0]]\n"
     ]
    },
    {
     "name": "stderr",
     "output_type": "stream",
     "text": [
      "/opt/anaconda3/lib/python3.8/site-packages/sklearn/base.py:445: UserWarning: X does not have valid feature names, but LogisticRegression was fitted with feature names\n",
      "  warnings.warn(\n"
     ]
    }
   ],
   "source": [
    "from sklearn.preprocessing import StandardScaler\n",
    "sc = StandardScaler()\n",
    "X_train = sc.fit_transform(X_train)\n",
    "X_test = sc.transform(X_test)\n",
    "y_pred = classifier.predict(X_test)\n",
    "print(np.concatenate((y_pred.reshape(len(y_pred),1), y_test.values.reshape(len(y_test),1)),1))"
   ]
  },
  {
   "cell_type": "markdown",
   "id": "198fd317",
   "metadata": {
    "papermill": {
     "duration": 0.044502,
     "end_time": "2022-01-30T17:31:47.145693",
     "exception": false,
     "start_time": "2022-01-30T17:31:47.101191",
     "status": "completed"
    },
    "tags": []
   },
   "source": [
    "### Metric Evaluation"
   ]
  },
  {
   "cell_type": "code",
   "execution_count": 44,
   "id": "91556c78",
   "metadata": {
    "ExecuteTime": {
     "end_time": "2022-03-02T12:27:41.174797Z",
     "start_time": "2022-03-02T12:27:41.063602Z"
    },
    "execution": {
     "iopub.execute_input": "2022-01-30T17:31:47.242270Z",
     "iopub.status.busy": "2022-01-30T17:31:47.241561Z",
     "iopub.status.idle": "2022-01-30T17:31:47.526856Z",
     "shell.execute_reply": "2022-01-30T17:31:47.527932Z",
     "shell.execute_reply.started": "2022-01-30T17:27:24.903537Z"
    },
    "papermill": {
     "duration": 0.337294,
     "end_time": "2022-01-30T17:31:47.528285",
     "exception": false,
     "start_time": "2022-01-30T17:31:47.190991",
     "status": "completed"
    },
    "tags": []
   },
   "outputs": [
    {
     "name": "stdout",
     "output_type": "stream",
     "text": [
      "[[3621  161]\n",
      " [ 222 3634]]\n"
     ]
    },
    {
     "data": {
      "image/png": "[encoded data removed]",
      "text/plain": [
       "<Figure size 432x432 with 1 Axes>"
      ]
     },
     "metadata": {
      "needs_background": "light"
     },
     "output_type": "display_data"
    }
   ],
   "source": [
    "from sklearn.metrics import confusion_matrix, accuracy_score, roc_auc_score\n",
    "cm = confusion_matrix(y_test, y_pred)\n",
    "print(cm)\n",
    "from mlxtend.plotting import plot_confusion_matrix\n",
    "fig, ax = plot_confusion_matrix(conf_mat=cm, figsize=(6, 6), cmap=plt.cm.Greens)\n",
    "plt.xlabel('Predictions', fontsize=18)\n",
    "plt.ylabel('Actuals', fontsize=18)\n",
    "plt.title('Confusion Matrix', fontsize=18)\n",
    "plt.show()"
   ]
  },
  {
   "cell_type": "code",
   "execution_count": 45,
   "id": "5fdcd0a8",
   "metadata": {
    "ExecuteTime": {
     "end_time": "2022-03-02T12:27:44.724859Z",
     "start_time": "2022-03-02T12:27:44.708647Z"
    },
    "execution": {
     "iopub.execute_input": "2022-01-30T17:31:47.648813Z",
     "iopub.status.busy": "2022-01-30T17:31:47.647965Z",
     "iopub.status.idle": "2022-01-30T17:31:47.674297Z",
     "shell.execute_reply": "2022-01-30T17:31:47.674841Z",
     "shell.execute_reply.started": "2022-01-30T17:25:00.660905Z"
    },
    "papermill": {
     "duration": 0.076526,
     "end_time": "2022-01-30T17:31:47.675043",
     "exception": false,
     "start_time": "2022-01-30T17:31:47.598517",
     "status": "completed"
    },
    "tags": []
   },
   "outputs": [
    {
     "name": "stdout",
     "output_type": "stream",
     "text": [
      "Accuracy :  0.9498559832416863 \n",
      "ROC Score :  0.9499286585727106\n"
     ]
    }
   ],
   "source": [
    "logreg=accuracy_score(y_test,y_pred)\n",
    "rocreg=roc_auc_score(y_test, y_pred)\n",
    "print('Accuracy : ',logreg,'\\nROC Score : ',rocreg)"
   ]
  },
  {
   "cell_type": "code",
   "execution_count": 46,
   "id": "1bdfad5b",
   "metadata": {
    "ExecuteTime": {
     "end_time": "2022-03-02T12:27:46.284402Z",
     "start_time": "2022-03-02T12:27:46.257421Z"
    },
    "execution": {
     "iopub.execute_input": "2022-01-30T17:31:47.772432Z",
     "iopub.status.busy": "2022-01-30T17:31:47.771785Z",
     "iopub.status.idle": "2022-01-30T17:31:47.894042Z",
     "shell.execute_reply": "2022-01-30T17:31:47.893376Z",
     "shell.execute_reply.started": "2022-01-30T17:17:54.556981Z"
    },
    "papermill": {
     "duration": 0.172101,
     "end_time": "2022-01-30T17:31:47.894207",
     "exception": false,
     "start_time": "2022-01-30T17:31:47.722106",
     "status": "completed"
    },
    "tags": []
   },
   "outputs": [
    {
     "name": "stdout",
     "output_type": "stream",
     "text": [
      "              precision    recall  f1-score   support\n",
      "\n",
      "           0       0.94      0.96      0.95      3782\n",
      "           1       0.96      0.94      0.95      3856\n",
      "\n",
      "    accuracy                           0.95      7638\n",
      "   macro avg       0.95      0.95      0.95      7638\n",
      "weighted avg       0.95      0.95      0.95      7638\n",
      "\n"
     ]
    }
   ],
   "source": [
    "import sklearn.metrics as metrics\n",
    "print(metrics.classification_report(y_test, y_pred))"
   ]
  },
  {
   "cell_type": "markdown",
   "id": "dd9d3c8b",
   "metadata": {
    "papermill": {
     "duration": 0.048232,
     "end_time": "2022-01-30T17:31:47.990581",
     "exception": false,
     "start_time": "2022-01-30T17:31:47.942349",
     "status": "completed"
    },
    "tags": []
   },
   "source": [
    "### Hyper tuning"
   ]
  },
  {
   "cell_type": "code",
   "execution_count": 48,
   "id": "06c5ca60",
   "metadata": {
    "ExecuteTime": {
     "end_time": "2022-03-02T12:28:07.107610Z",
     "start_time": "2022-03-02T12:28:03.606308Z"
    },
    "execution": {
     "iopub.execute_input": "2022-01-30T17:31:48.089930Z",
     "iopub.status.busy": "2022-01-30T17:31:48.089219Z",
     "iopub.status.idle": "2022-01-30T17:32:32.686754Z",
     "shell.execute_reply": "2022-01-30T17:32:32.687640Z",
     "shell.execute_reply.started": "2022-01-30T17:17:58.775520Z"
    },
    "papermill": {
     "duration": 44.64942,
     "end_time": "2022-01-30T17:32:32.687944",
     "exception": false,
     "start_time": "2022-01-30T17:31:48.038524",
     "status": "completed"
    },
    "tags": []
   },
   "outputs": [
    {
     "name": "stdout",
     "output_type": "stream",
     "text": [
      "Best Accuracy of LR: 97.23 %\n",
      "Best Parameter of LR: {'C': 0.001, 'penalty': 'l2'}\n"
     ]
    },
    {
     "name": "stderr",
     "output_type": "stream",
     "text": [
      "/opt/anaconda3/lib/python3.8/site-packages/sklearn/model_selection/_validation.py:372: FitFailedWarning: \n",
      "70 fits failed out of a total of 140.\n",
      "The score on these train-test partitions for these parameters will be set to nan.\n",
      "If these failures are not expected, you can try to debug them by setting error_score='raise'.\n",
      "\n",
      "Below are more details about the failures:\n",
      "--------------------------------------------------------------------------------\n",
      "70 fits failed with the following error:\n",
      "Traceback (most recent call last):\n",
      "  File \"/opt/anaconda3/lib/python3.8/site-packages/sklearn/model_selection/_validation.py\", line 681, in _fit_and_score\n",
      "    estimator.fit(X_train, y_train, **fit_params)\n",
      "  File \"/opt/anaconda3/lib/python3.8/site-packages/sklearn/linear_model/_logistic.py\", line 1461, in fit\n",
      "    solver = _check_solver(self.solver, self.penalty, self.dual)\n",
      "  File \"/opt/anaconda3/lib/python3.8/site-packages/sklearn/linear_model/_logistic.py\", line 447, in _check_solver\n",
      "    raise ValueError(\n",
      "ValueError: Solver lbfgs supports only 'l2' or 'none' penalties, got l1 penalty.\n",
      "\n",
      "  warnings.warn(some_fits_failed_message, FitFailedWarning)\n",
      "/opt/anaconda3/lib/python3.8/site-packages/sklearn/model_selection/_search.py:969: UserWarning: One or more of the test scores are non-finite: [       nan 0.97233849        nan 0.97233849        nan 0.97233849\n",
      "        nan 0.97233849        nan 0.97233849        nan 0.97233849\n",
      "        nan 0.97233849]\n",
      "  warnings.warn(\n"
     ]
    }
   ],
   "source": [
    "from sklearn.model_selection import GridSearchCV\n",
    "parameters_lr = [{'penalty':['l1','l2'],'C': [0.001, 0.01, 0.1, 1, 10, 100, 1000]}]\n",
    "grid_search_lr = GridSearchCV(estimator = classifier,\n",
    "                           param_grid = parameters_lr,\n",
    "                           scoring = 'accuracy',\n",
    "                           cv = 10,\n",
    "                           n_jobs = -1)\n",
    "grid_search_lr.fit(X_train, y_train)\n",
    "best_accuracy_lr = grid_search_lr.best_score_\n",
    "best_paramaeter_lr = grid_search_lr.best_params_  \n",
    "print(\"Best Accuracy of LR: {:.2f} %\".format(best_accuracy_lr.mean()*100))\n",
    "print(\"Best Parameter of LR:\", best_paramaeter_lr)"
   ]
  },
  {
   "cell_type": "markdown",
   "id": "6b988f0c",
   "metadata": {
    "execution": {
     "iopub.execute_input": "2022-01-30T14:33:33.788943Z",
     "iopub.status.busy": "2022-01-30T14:33:33.784381Z",
     "iopub.status.idle": "2022-01-30T14:33:33.805139Z",
     "shell.execute_reply": "2022-01-30T14:33:33.801499Z",
     "shell.execute_reply.started": "2022-01-30T14:33:33.788853Z"
    },
    "papermill": {
     "duration": 0.046706,
     "end_time": "2022-01-30T17:32:32.792298",
     "exception": false,
     "start_time": "2022-01-30T17:32:32.745592",
     "status": "completed"
    },
    "tags": []
   },
   "source": [
    "By using above parameter we get 97% accuracy"
   ]
  },
  {
   "cell_type": "markdown",
   "id": "636e4e56",
   "metadata": {
    "papermill": {
     "duration": 0.046356,
     "end_time": "2022-01-30T17:32:32.885052",
     "exception": false,
     "start_time": "2022-01-30T17:32:32.838696",
     "status": "completed"
    },
    "tags": []
   },
   "source": [
    "##  Testing"
   ]
  },
  {
   "cell_type": "code",
   "execution_count": 49,
   "id": "da224e01",
   "metadata": {
    "ExecuteTime": {
     "end_time": "2022-03-02T12:28:17.217165Z",
     "start_time": "2022-03-02T12:28:17.180400Z"
    },
    "execution": {
     "iopub.execute_input": "2022-01-30T17:32:32.984640Z",
     "iopub.status.busy": "2022-01-30T17:32:32.983973Z",
     "iopub.status.idle": "2022-01-30T17:32:34.397386Z",
     "shell.execute_reply": "2022-01-30T17:32:34.398286Z",
     "shell.execute_reply.started": "2022-01-30T17:18:43.483236Z"
    },
    "papermill": {
     "duration": 1.467431,
     "end_time": "2022-01-30T17:32:34.398583",
     "exception": false,
     "start_time": "2022-01-30T17:32:32.931152",
     "status": "completed"
    },
    "tags": []
   },
   "outputs": [
    {
     "data": {
      "text/plain": [
       "LogisticRegression(C=0.001)"
      ]
     },
     "execution_count": 49,
     "metadata": {},
     "output_type": "execute_result"
    }
   ],
   "source": [
    "classifierhyp = LogisticRegression(C=0.001,penalty='l2')\n",
    "classifierhyp.fit(X_train,y_train)"
   ]
  },
  {
   "cell_type": "code",
   "execution_count": 50,
   "id": "3d57f5bd",
   "metadata": {
    "ExecuteTime": {
     "end_time": "2022-03-02T12:28:17.720465Z",
     "start_time": "2022-03-02T12:28:17.707924Z"
    }
   },
   "outputs": [
    {
     "data": {
      "text/plain": [
       "0.9719821942916994"
      ]
     },
     "execution_count": 50,
     "metadata": {},
     "output_type": "execute_result"
    }
   ],
   "source": [
    "y_pred=classifierhyp.predict(X_test)\n",
    "\n",
    "#evaluate the model fit\n",
    "from sklearn import metrics\n",
    "metrics.accuracy_score(y_test, y_pred)"
   ]
  },
  {
   "cell_type": "code",
   "execution_count": 51,
   "id": "fb77aa49",
   "metadata": {
    "ExecuteTime": {
     "end_time": "2022-03-02T12:28:18.435499Z",
     "start_time": "2022-03-02T12:28:18.330726Z"
    }
   },
   "outputs": [
    {
     "name": "stdout",
     "output_type": "stream",
     "text": [
      "[[3589  193]\n",
      " [  21 3835]]\n"
     ]
    },
    {
     "data": {
      "image/png": "[encoded data removed]",
      "text/plain": [
       "<Figure size 432x432 with 1 Axes>"
      ]
     },
     "metadata": {
      "needs_background": "light"
     },
     "output_type": "display_data"
    }
   ],
   "source": [
    "from sklearn.metrics import confusion_matrix, accuracy_score, roc_auc_score\n",
    "cm = confusion_matrix(y_test, y_pred)\n",
    "print(cm)\n",
    "from mlxtend.plotting import plot_confusion_matrix\n",
    "fig, ax = plot_confusion_matrix(conf_mat=cm, figsize=(6, 6), cmap=plt.cm.Greens)\n",
    "plt.xlabel('Predictions', fontsize=18)\n",
    "plt.ylabel('Actuals', fontsize=18)\n",
    "plt.title('Confusion Matrix', fontsize=18)\n",
    "plt.show()"
   ]
  },
  {
   "cell_type": "code",
   "execution_count": 52,
   "id": "08260fde",
   "metadata": {
    "ExecuteTime": {
     "end_time": "2022-03-02T12:28:21.798942Z",
     "start_time": "2022-03-02T12:28:21.790398Z"
    }
   },
   "outputs": [],
   "source": [
    "#save the pickle file to be loaded in the streamlit app\n",
    "import pickle\n",
    "with open(\"propensity_model.pkl\", 'wb') as pfile:\n",
    "    pickle.dump(classifierhyp, pfile)"
   ]
  },
  {
   "cell_type": "code",
   "execution_count": 53,
   "id": "a32734a1",
   "metadata": {
    "ExecuteTime": {
     "end_time": "2022-03-02T12:28:22.549015Z",
     "start_time": "2022-03-02T12:28:22.540439Z"
    }
   },
   "outputs": [
    {
     "data": {
      "text/plain": [
       "(7638, 5)"
      ]
     },
     "execution_count": 53,
     "metadata": {},
     "output_type": "execute_result"
    }
   ],
   "source": [
    "X_test.shape"
   ]
  }
 ],
 "metadata": {
  "kernelspec": {
   "display_name": "Python 3 (ipykernel)",
   "language": "python",
   "name": "python3"
  },
  "language_info": {
   "codemirror_mode": {
    "name": "ipython",
    "version": 3
   },
   "file_extension": ".py",
   "mimetype": "text/x-python",
   "name": "python",
   "nbconvert_exporter": "python",
   "pygments_lexer": "ipython3",
   "version": "3.8.8"
  },
  "papermill": {
   "default_parameters": {},
   "duration": 77.020716,
   "end_time": "2022-01-30T17:32:38.580320",
   "environment_variables": {},
   "exception": null,
   "input_path": "__notebook__.ipynb",
   "output_path": "__notebook__.ipynb",
   "parameters": {},
   "start_time": "2022-01-30T17:31:21.559604",
   "version": "2.3.3"
  },
  "toc": {
   "base_numbering": 1,
   "nav_menu": {},
   "number_sections": true,
   "sideBar": true,
   "skip_h1_title": false,
   "title_cell": "Table of Contents",
   "title_sidebar": "Contents",
   "toc_cell": false,
   "toc_position": {},
   "toc_section_display": true,
   "toc_window_display": false
  }
 },
 "nbformat": 4,
 "nbformat_minor": 5
}
